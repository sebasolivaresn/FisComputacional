{
 "metadata": {
  "name": ""
 },
 "nbformat": 3,
 "nbformat_minor": 0,
 "worksheets": [
  {
   "cells": [
    {
     "cell_type": "markdown",
     "metadata": {},
     "source": [
      "F\u00edsica Computacional: Taller #5: Punto 1 (Espectro de potencias de un encefalograma)</br> \n",
      "Autores: Diego Gamboa (201015096), Sebastian Olivares</br>\n"
     ]
    },
    {
     "cell_type": "markdown",
     "metadata": {},
     "source": [
      "Esta celda se encargar\u00e1 de cargar el archivo a un arreglo de dos dimensiones. Descarga el archivo directamente desde el repositorio de github donde se encuentra. Se necesita de conexi\u00f3n a internet para poder ejecutar el c\u00f3digo. </br>\n",
      "file - es el archivo donde se encuentra los datos del encefalograma.</br>\n",
      "data - es el arreglo donde se guardan los datos. Tiene 24 columnas correspondientes a las 24 mediciones del encefalograma. Tiene 400 filas para cada tiempo de la medicion"
     ]
    },
    {
     "cell_type": "code",
     "collapsed": false,
     "input": [
      "%pylab inline\n",
      "import urllib2\n",
      "import matplotlib.pyplot as plt\n",
      "import numpy as np\n",
      "file = urllib2.urlopen(\"https://raw.github.com/forero/ComputationalPhysicsUniandesData/master/homework/hw_4/sampled+ma0844az_1-1+_data.txt\")\n",
      "data = np.loadtxt(file)"
     ],
     "language": "python",
     "metadata": {},
     "outputs": [
      {
       "output_type": "stream",
       "stream": "stdout",
       "text": [
        "Populating the interactive namespace from numpy and matplotlib\n"
       ]
      },
      {
       "output_type": "stream",
       "stream": "stderr",
       "text": [
        "WARNING: pylab import has clobbered these variables: ['fft']\n",
        "`%pylab --no-import-all` prevents importing * from pylab and numpy\n"
       ]
      }
     ],
     "prompt_number": 31
    },
    {
     "cell_type": "markdown",
     "metadata": {},
     "source": [
      "Se realiza la inicialzaci\u00f3n de las variables y estructuras necesarias para almacenamiento de los resultados.</br>\n",
      "frec - es el arreglo donde se guardar\u00e1n las frecuencias resultado de las transformaciones de Fourier. Se tiene en cuenta que cada medicion se realiza en 1 minuto, es decir, 60 segundos.</br>\n",
      "amplitudes - es el arreglo donde se guardar\u00e1n las amplitudes resultado de las transformaciones de Fourier. Su tama\u00f1o (el mismo de data) es de 400 filas por 24 columnas. En cada columna guarda la transformada de Fourier de la columna correspondiente de los datos del archivo."
     ]
    },
    {
     "cell_type": "code",
     "collapsed": false,
     "input": [
      "from scipy.fftpack import fft, fftfreq\n",
      "frec = fftfreq(size(data[:,0]), 60)\n",
      "amplitudes = np.zeros((size(data[:,0]), size(data[0,:])))"
     ],
     "language": "python",
     "metadata": {},
     "outputs": [],
     "prompt_number": 41
    },
    {
     "cell_type": "markdown",
     "metadata": {},
     "source": [
      "Se realizan los c\u00e1lculos correspondientes a las transformadas de Fourier (usando rutinas fft). Se obtienen las amplitudes.\n"
     ]
    },
    {
     "cell_type": "code",
     "collapsed": false,
     "input": [
      "for i in range(0,24):\n",
      "    amplitudes[:,i] = fft(data[:,i]) / 400\n",
      "print amplitudes"
     ],
     "language": "python",
     "metadata": {},
     "outputs": [
      {
       "output_type": "stream",
       "stream": "stdout",
       "text": [
        "[[  8.78906125e-02  -1.29030755e+01   9.61376901e+00 ...,   4.77050742e-01\n",
        "    1.74997549e+01   3.35424787e+01]\n",
        " [ -6.79192530e-03   3.87756444e+00   5.26732192e-01 ...,  -3.71790424e+00\n",
        "    2.11347704e+00  -3.84405534e+00]\n",
        " [  7.22666583e-01   3.49285037e+00   4.27058558e-01 ...,  -9.68839887e-01\n",
        "    8.06488978e-01  -3.77141921e+00]\n",
        " ..., \n",
        " [  1.04707178e+00   1.37700746e+00   6.52423352e-01 ...,  -1.33528883e+00\n",
        "   -2.66924904e-01   2.45839791e-01]\n",
        " [  7.22666583e-01   3.49285037e+00   4.27058558e-01 ...,  -9.68839887e-01\n",
        "    8.06488978e-01  -3.77141921e+00]\n",
        " [ -6.79192530e-03   3.87756444e+00   5.26732192e-01 ...,  -3.71790424e+00\n",
        "    2.11347704e+00  -3.84405534e+00]]\n"
       ]
      }
     ],
     "prompt_number": 50
    },
    {
     "cell_type": "markdown",
     "metadata": {},
     "source": [
      "Se crea el arreglo que guardara el espectro de potencias, llamado potencias. Tiene el mismo tama\u00f1o de amplitudes. </br>\n",
      "Se produce la gr\u00e1fica de los espectros de potencia de las se\u00f1ales de todos los electrodos. Espec\u00edficamente se gr\u00e1ficar\u00e1n la norma al cuadrado de amplitudes vs frecuencia, en el tiempo, para tiempos n = 0,1,2,3,4,...,N-1."
     ]
    },
    {
     "cell_type": "code",
     "collapsed": false,
     "input": [
      "potencias = np.zeros((size(data[:,0]), size(data[0,:])))\n",
      "for j in range(0,400):\n",
      "    for k in range(0,24):\n",
      "        #Calcula la norma al cuadrado de cada elemento de la transformada de Fourier\n",
      "        potencias[j,k] = np.power(np.absolute(amplitudes[j,k]),2)\n",
      "    "
     ],
     "language": "python",
     "metadata": {},
     "outputs": [
      {
       "output_type": "stream",
       "stream": "stdout",
       "text": [
        "[[  7.72475977e-03   1.66489356e+02   9.24245547e+01 ...,   2.27577411e-01\n",
        "    3.06241423e+02   1.12509788e+03]\n",
        " [  4.61302493e-05   1.50355060e+01   2.77446802e-01 ...,   1.38228119e+01\n",
        "    4.46678518e+00   1.47767614e+01]\n",
        " [  5.22246990e-01   1.22000037e+01   1.82379012e-01 ...,   9.38650727e-01\n",
        "    6.50424472e-01   1.42236029e+01]\n",
        " ..., \n",
        " [  1.09635930e+00   1.89614954e+00   4.25656230e-01 ...,   1.78299625e+00\n",
        "    7.12489045e-02   6.04372029e-02]\n",
        " [  5.22246990e-01   1.22000037e+01   1.82379012e-01 ...,   9.38650727e-01\n",
        "    6.50424472e-01   1.42236029e+01]\n",
        " [  4.61302493e-05   1.50355060e+01   2.77446802e-01 ...,   1.38228119e+01\n",
        "    4.46678518e+00   1.47767614e+01]]\n"
       ]
      },
      {
       "metadata": {},
       "output_type": "pyout",
       "prompt_number": 56,
       "text": [
        "[<matplotlib.lines.Line2D at 0x106609850>]"
       ]
      },
      {
       "metadata": {},
       "output_type": "display_data",
       "png": "[encoded data removed]",
       "text": [
        "<matplotlib.figure.Figure at 0x1057bfb90>"
       ]
      }
     ],
     "prompt_number": 56
    },
    {
     "cell_type": "markdown",
     "metadata": {},
     "source": [
      "<strong>An\u00e1lisis:</strong>"
     ]
    },
    {
     "cell_type": "code",
     "collapsed": false,
     "input": [
      "x=0\n",
      "y=0\n",
      "plt.xlabel(\"Frequency (Hz)\")\n",
      "plt.ylabel(\"(x_k)^2\")\n",
      "plt.plot(x, y)\n"
     ],
     "language": "python",
     "metadata": {},
     "outputs": [
      {
       "metadata": {},
       "output_type": "pyout",
       "prompt_number": 23,
       "text": [
        "[<matplotlib.lines.Line2D at 0x3f6fdd0>]"
       ]
      },
      {
       "metadata": {},
       "output_type": "display_data",
       "png": "[encoded data removed]",
       "text": [
        "<matplotlib.figure.Figure at 0x3b21510>"
       ]
      }
     ],
     "prompt_number": 23
    },
    {
     "cell_type": "markdown",
     "metadata": {},
     "source": [
      "Ahora se tomar\u00e1n los 10 valores de la norma al cuadrado m\u00e1s grandes de las amplitudes encontradas y se guardar\u00e1n en un arreglo.</br>\n",
      "base - es el arreglo que contiene la base que se utilizar\u00e1 para reconstruir la se\u00f1al del encefalograma."
     ]
    },
    {
     "cell_type": "code",
     "collapsed": false,
     "input": [],
     "language": "python",
     "metadata": {},
     "outputs": []
    },
    {
     "cell_type": "markdown",
     "metadata": {},
     "source": [
      "Con el arreglo base se tratar\u00e1 de reconstruir la onda."
     ]
    },
    {
     "cell_type": "code",
     "collapsed": false,
     "input": [],
     "language": "python",
     "metadata": {},
     "outputs": []
    },
    {
     "cell_type": "markdown",
     "metadata": {},
     "source": [
      "Se comparan los valores de la se\u00f1al reconstruida con los de la se\u00f1al original, a trav\u00e9s de la estad\u00edstica $\\chi\u00b2$</br>"
     ]
    },
    {
     "cell_type": "code",
     "collapsed": false,
     "input": [],
     "language": "python",
     "metadata": {},
     "outputs": []
    },
    {
     "cell_type": "markdown",
     "metadata": {},
     "source": []
    }
   ],
   "metadata": {}
  }
 ]
}