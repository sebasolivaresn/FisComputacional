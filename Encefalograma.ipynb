{
 "metadata": {
  "name": ""
 },
 "nbformat": 3,
 "nbformat_minor": 0,
 "worksheets": [
  {
   "cells": [
    {
     "cell_type": "markdown",
     "metadata": {},
     "source": [
      "F\u00edsica Computacional: Taller #5: Punto 1 (Espectro de potencias de un encefalograma)</br> \n",
      "Autores: Diego Gamboa (201015096), Sebastian Olivares</br>\n"
     ]
    },
    {
     "cell_type": "markdown",
     "metadata": {},
     "source": [
      "Esta celda se encargar\u00e1 de cargar el archivo a un arreglo de dos dimensiones. Descarga el archivo directamente desde el repositorio de github donde se encuentra. Se necesita de conexi\u00f3n a internet para poder ejecutar el c\u00f3digo. </br>\n",
      "file - es el archivo donde se encuentra los datos del encefalograma.</br>\n",
      "data - es el arreglo donde se guardan los datos. Tiene 24 columnas correspondientes a las 24 mediciones del encefalograma. Tiene 400 filas para cada tiempo de la medicion"
     ]
    },
    {
     "cell_type": "code",
     "collapsed": false,
     "input": [
      "%pylab inline\n",
      "import urllib2\n",
      "import matplotlib.pyplot as plt\n",
      "import numpy as np\n",
      "file = urllib2.urlopen(\"https://raw.github.com/forero/ComputationalPhysicsUniandesData/master/homework/hw_4/sampled+ma0844az_1-1+_data.txt\")\n",
      "data = np.loadtxt(file)"
     ],
     "language": "python",
     "metadata": {},
     "outputs": [
      {
       "output_type": "stream",
       "stream": "stdout",
       "text": [
        "Populating the interactive namespace from numpy and matplotlib\n"
       ]
      },
      {
       "output_type": "stream",
       "stream": "stderr",
       "text": [
        "WARNING: pylab import has clobbered these variables: ['fft']\n",
        "`%pylab --no-import-all` prevents importing * from pylab and numpy\n"
       ]
      }
     ],
     "prompt_number": 31
    },
    {
     "cell_type": "markdown",
     "metadata": {},
     "source": [
      "Se realiza la inicialzaci\u00f3n de las variables y estructuras necesarias para almacenamiento de los resultados.</br>\n",
      "frec - es el arreglo donde se guardar\u00e1n las frecuencias resultado de las transformaciones de Fourier. Se tiene en cuenta que cada medicion se realiza en 1 minuto, es decir, 60 segundos.</br>\n",
      "amplitudes - es el arreglo donde se guardar\u00e1n las amplitudes resultado de las transformaciones de Fourier. Su tama\u00f1o es de 400 filas por 24 columnas. En cada columna guarda la transformada de Fourier de la columna correspondiente de los datos del archivo."
     ]
    },
    {
     "cell_type": "code",
     "collapsed": false,
     "input": [
      "from scipy.fftpack import fft, fftfreq\n",
      "frec = fftfreq(size(data[:,0]), 60)\n",
      "amplitudes = np.zeros((size(data[:,0]), size(data[0,:])))"
     ],
     "language": "python",
     "metadata": {},
     "outputs": [],
     "prompt_number": 32
    },
    {
     "cell_type": "markdown",
     "metadata": {},
     "source": [
      "Se realizan los c\u00e1lculos correspondientes a las transformadas de Fourier (usando rutinas fft). Se obtienen las amplitudes.\n"
     ]
    },
    {
     "cell_type": "code",
     "collapsed": false,
     "input": [
      "for i in range(0,23):\n",
      "    amplitudes[:,i] = fft(data[:,i]) / size(data[:,i])"
     ],
     "language": "python",
     "metadata": {},
     "outputs": [],
     "prompt_number": 33
    },
    {
     "cell_type": "markdown",
     "metadata": {},
     "source": [
      "Se produce la gr\u00e1fica de los espectros de potencia de las se\u00f1ales de todos los electrodos. Espec\u00edficamente se gr\u00e1ficar\u00e1n la norma al cuadrado de amplitudes vs frecuencia, en el tiempo, para tiempos n = 0,1,2,3,4,...,N-1."
     ]
    },
    {
     "cell_type": "code",
     "collapsed": false,
     "input": [],
     "language": "python",
     "metadata": {},
     "outputs": []
    },
    {
     "cell_type": "markdown",
     "metadata": {},
     "source": [
      "<strong>An\u00e1lisis:</strong>"
     ]
    },
    {
     "cell_type": "code",
     "collapsed": false,
     "input": [
      "x=0\n",
      "y=0\n",
      "plt.xlabel(\"Frequency (Hz)\")\n",
      "plt.ylabel(\"(x_k)^2\")\n",
      "plt.plot(x, y)\n"
     ],
     "language": "python",
     "metadata": {},
     "outputs": [
      {
       "metadata": {},
       "output_type": "pyout",
       "prompt_number": 23,
       "text": [
        "[<matplotlib.lines.Line2D at 0x3f6fdd0>]"
       ]
      },
      {
       "metadata": {},
       "output_type": "display_data",
       "png": "[encoded data removed]",
       "text": [
        "<matplotlib.figure.Figure at 0x3b21510>"
       ]
      }
     ],
     "prompt_number": 23
    },
    {
     "cell_type": "markdown",
     "metadata": {},
     "source": [
      "Ahora se tomar\u00e1n los 10 valores de la norma al cuadrado m\u00e1s grandes de las amplitudes encontradas y se guardar\u00e1n en un arreglo.</br>\n",
      "base - es el arreglo que contiene la base que se utilizar\u00e1 para reconstruir la se\u00f1al del encefalograma."
     ]
    },
    {
     "cell_type": "code",
     "collapsed": false,
     "input": [],
     "language": "python",
     "metadata": {},
     "outputs": []
    },
    {
     "cell_type": "markdown",
     "metadata": {},
     "source": [
      "Con el arreglo base se tratar\u00e1 de reconstruir la onda."
     ]
    },
    {
     "cell_type": "code",
     "collapsed": false,
     "input": [],
     "language": "python",
     "metadata": {},
     "outputs": []
    },
    {
     "cell_type": "markdown",
     "metadata": {},
     "source": [
      "Se comparan los valores de la se\u00f1al reconstruida con los de la se\u00f1al original, a trav\u00e9s de la estad\u00edstica $\\chi\u00b2$</br>"
     ]
    },
    {
     "cell_type": "code",
     "collapsed": false,
     "input": [],
     "language": "python",
     "metadata": {},
     "outputs": []
    },
    {
     "cell_type": "markdown",
     "metadata": {},
     "source": []
    }
   ],
   "metadata": {}
  }
 ]
}