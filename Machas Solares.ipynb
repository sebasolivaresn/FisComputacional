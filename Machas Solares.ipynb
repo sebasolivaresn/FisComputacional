{
 "metadata": {
  "name": ""
 },
 "nbformat": 3,
 "nbformat_minor": 0,
 "worksheets": [
  {
   "cells": [
    {
     "cell_type": "markdown",
     "metadata": {},
     "source": [
      "F\u00edsica Computacional: Taller #5: Punto 2 (Espectro de potencias de manchas solare)</br>\n",
      "Autores: Diego Gamboa (201015096), Sebastian Olivares</br>"
     ]
    },
    {
     "cell_type": "markdown",
     "metadata": {},
     "source": [
      "Los datos se cargar\u00e1n directamente desde el repositorio en el que se encuentran. Conexi\u00f3n a internet es necesaria para la ejecuci\u00f3n del c\u00f3digo. </br>\n",
      "file - el archivo cargado</br>\n",
      "data - estructura en la que se almacenan los datos del archivo file"
     ]
    },
    {
     "cell_type": "code",
     "collapsed": false,
     "input": [
      "%pylab inline\n",
      "import urllib2\n",
      "import matplotlib.pyplot as plt\n",
      "import numpy as np\n",
      "from scipy.interpolate import interp1d\n",
      "file = urllib2.urlopen(\"https://raw.github.com/forero/ComputationalPhysicsUniandesData/master/homework/hw_5/sparse_sample_monthrg.dat\")\n",
      "data = loadtxt(file)"
     ],
     "language": "python",
     "metadata": {},
     "outputs": [
      {
       "output_type": "stream",
       "stream": "stdout",
       "text": [
        "Populating the interactive namespace from numpy and matplotlib\n"
       ]
      }
     ],
     "prompt_number": 1
    },
    {
     "cell_type": "markdown",
     "metadata": {},
     "source": [
      "Inicializaci\u00f3n de variables.</br>\n",
      "anio - arreglo de los a\u00f1os de las tomas de datos</br>\n",
      "mes - arreglo de los meses de las tomas de datos</br>\n",
      "duracion - arreglo de los per\u00edodos de tiempo (duraci\u00f3n) en d\u00edas de cada toma de datos.</br>\n",
      "manchas - arreglo con los n\u00fameros de manchas observadas."
     ]
    },
    {
     "cell_type": "code",
     "collapsed": false,
     "input": [
      "anio = data[:,0]\n",
      "mes = data[:,1]\n",
      "duracion = data[:,2]\n",
      "manchas = data[:,3]"
     ],
     "language": "python",
     "metadata": {},
     "outputs": [],
     "prompt_number": 29
    },
    {
     "cell_type": "markdown",
     "metadata": {},
     "source": [
      "Se eliminan los datos de -99.0 que son meses sin mediciones.</br>\n",
      "anio_nuevo - arreglo con el a\u00f1o de las mediciones realizadas </br>\n",
      "mes_nuevo - arreglo con el mes de las mediciones realizada </br>\n",
      "manchas_nuevo - arreglo con las mediciones realizadas </br>\n",
      "Estos arreglos tienen tama\u00f1o 435."
     ]
    },
    {
     "cell_type": "code",
     "collapsed": false,
     "input": [
      "#cuenta el numero de datos distintos a -99.0\n",
      "i = 0\n",
      "for j in range(size(manchas)):\n",
      "    if(manchas[j] != -99.0):\n",
      "        i = i+1\n",
      "#se crean los nuevos arreglos\n",
      "anio_nuevo = zeros(i)\n",
      "mes_nuevo = zeros(i)\n",
      "manchas_nuevo = zeros(i)\n",
      "l = 0\n",
      "#se asignan los valores de nuevos arreglos\n",
      "for k in range(size(mes)):\n",
      "    if(manchas[k] != -99.0):\n",
      "        anio_nuevo[l] = anio[k]\n",
      "        mes_nuevo[l] = mes[k]\n",
      "        manchas_nuevo[l] = manchas[k]\n",
      "        l = l+1"
     ],
     "language": "python",
     "metadata": {},
     "outputs": [],
     "prompt_number": 78
    },
    {
     "cell_type": "markdown",
     "metadata": {},
     "source": [
      "Para realizar la interpolacion, primero se crea un arreglo (meses) donde se cuenten los meses, tomando el mes 0 como el mes 10 de 1612 hasta el mes 5 de 1995. Se inicializa este arreglo. "
     ]
    },
    {
     "cell_type": "code",
     "collapsed": false,
     "input": [
      "meses = zeros((1995-1612+1)*12-(9+7))\n",
      "for j in range(size(meses)):\n",
      "    meses[j] = j"
     ],
     "language": "python",
     "metadata": {},
     "outputs": [],
     "prompt_number": 83
    },
    {
     "cell_type": "markdown",
     "metadata": {},
     "source": [
      "Se realiza la interpolacion constante.</br>\n",
      "const - arreglo que contiene los datos de las manchas obtenidos con interpolacion constante"
     ]
    },
    {
     "cell_type": "code",
     "collapsed": false,
     "input": [
      "const = zeros(size(meses))\n",
      "for i in range(size(manchas)-1):\n",
      "    indice = (anio[i]-1610)*12 + mes[i] - 3\n",
      "    indice_siguiente = (anio[i+1]-1610)*12 + mes[i+1] - 3\n",
      "    punto_medio = np.ceil((indice_siguiente-indice)/2)\n",
      "    dato = manchas[i]\n",
      "    dato_siguiente = manchas[i+1]\n",
      "    if(dato_siguiente == -99.0):\n",
      "        dato_siguiente = manchas[i+2]\n",
      "    const[indice:punto_medio] = dato\n",
      "    const[punto_medio:indice_siguiente] = dato_siguiente\n",
      "print datos[0:50]"
     ],
     "language": "python",
     "metadata": {},
     "outputs": [],
     "prompt_number": 83
    },
    {
     "cell_type": "markdown",
     "metadata": {},
     "source": [
      "Se realiza la interpolacion lineal"
     ]
    },
    {
     "cell_type": "code",
     "collapsed": false,
     "input": [],
     "language": "python",
     "metadata": {},
     "outputs": []
    },
    {
     "cell_type": "markdown",
     "metadata": {},
     "source": [
      "Se realiza la interpolacion cubica"
     ]
    },
    {
     "cell_type": "code",
     "collapsed": false,
     "input": [],
     "language": "python",
     "metadata": {},
     "outputs": []
    },
    {
     "cell_type": "markdown",
     "metadata": {},
     "source": [
      "Se realizan rutinas fft para calcular frecuencias y amplitudes, para cada una de las 3 interpolaciones. </br>\n",
      "frec - Frecuencias resultado de la transformada de Fourier </br>\n",
      "amp - Amplitudes de la transformada de Fourier resultante </br>"
     ]
    },
    {
     "cell_type": "code",
     "collapsed": false,
     "input": [],
     "language": "python",
     "metadata": {},
     "outputs": []
    },
    {
     "cell_type": "markdown",
     "metadata": {},
     "source": [
      "Calcula y grafica los espectros de potencias de las tres se\u00f1ales interpoladas."
     ]
    },
    {
     "cell_type": "code",
     "collapsed": false,
     "input": [],
     "language": "python",
     "metadata": {},
     "outputs": []
    },
    {
     "cell_type": "markdown",
     "metadata": {},
     "source": [
      "<strong>An\u00e1lisis</strong>"
     ]
    },
    {
     "cell_type": "markdown",
     "metadata": {},
     "source": [
      "Se preparan los datos para la reconstrucci\u00f3n. Se eliminan todas las amplitudes que corresponden a una frecuencia mayor a 1/20 y menor a 1/2. Luego, se realiza una rutina fft inversa para obtener nuevos datos para comparar con los datos originales."
     ]
    },
    {
     "cell_type": "code",
     "collapsed": false,
     "input": [],
     "language": "python",
     "metadata": {},
     "outputs": []
    },
    {
     "cell_type": "markdown",
     "metadata": {},
     "source": [
      "Grafica de datos nuevos y antiguos. Manchas vs tiempo"
     ]
    },
    {
     "cell_type": "code",
     "collapsed": false,
     "input": [],
     "language": "python",
     "metadata": {},
     "outputs": []
    },
    {
     "cell_type": "markdown",
     "metadata": {},
     "source": [
      "Estimaci\u00f3n del per\u00edodo del ciclo solar a partir de los resultados obtenidos."
     ]
    },
    {
     "cell_type": "code",
     "collapsed": false,
     "input": [],
     "language": "python",
     "metadata": {},
     "outputs": []
    }
   ],
   "metadata": {}
  }
 ]
}