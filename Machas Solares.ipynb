{
 "metadata": {
  "name": ""
 },
 "nbformat": 3,
 "nbformat_minor": 0,
 "worksheets": [
  {
   "cells": [
    {
     "cell_type": "markdown",
     "metadata": {},
     "source": [
      "F\u00edsica Computacional: Taller #5: Punto 2 (Espectro de potencias de manchas solare)</br>\n",
      "Autores: Diego Gamboa (201015096), Sebastian Olivares</br>"
     ]
    },
    {
     "cell_type": "markdown",
     "metadata": {},
     "source": [
      "Los datos se cargar\u00e1n directamente desde el repositorio en el que se encuentran. Conexi\u00f3n a internet es necesaria para la ejecuci\u00f3n del c\u00f3digo. </br>\n",
      "file - el archivo cargado</br>\n",
      "data - estructura en la que se almacenan los datos del archivo file"
     ]
    },
    {
     "cell_type": "code",
     "collapsed": false,
     "input": [
      "%pylab inline\n",
      "import urllib2\n",
      "import matplotlib.pyplot as plt\n",
      "import numpy as np\n",
      "from scipy.interpolate import interp1d\n",
      "file = urllib2.urlopen(\"https://raw.github.com/forero/ComputationalPhysicsUniandesData/master/homework/hw_5/sparse_sample_monthrg.dat\")\n",
      "data = loadtxt(file)"
     ],
     "language": "python",
     "metadata": {},
     "outputs": [
      {
       "output_type": "stream",
       "stream": "stdout",
       "text": [
        "Populating the interactive namespace from numpy and matplotlib\n"
       ]
      }
     ],
     "prompt_number": 6
    },
    {
     "cell_type": "markdown",
     "metadata": {},
     "source": [
      "Inicializaci\u00f3n de variables.</br>\n",
      "anio - arreglo de los a\u00f1os de las tomas de datos</br>\n",
      "mes - arreglo de los meses de las tomas de datos</br>\n",
      "duracion - arreglo de los per\u00edodos de tiempo (duraci\u00f3n) en d\u00edas de cada toma de datos.</br>\n",
      "manchas - arreglo con los n\u00fameros de manchas observadas."
     ]
    },
    {
     "cell_type": "code",
     "collapsed": false,
     "input": [
      "anio = data[:,0]\n",
      "mes = data[:,1]\n",
      "duracion = data[:,2]\n",
      "manchas = data[:,3]"
     ],
     "language": "python",
     "metadata": {},
     "outputs": []
    },
    {
     "cell_type": "markdown",
     "metadata": {},
     "source": [
      "Se realizan las tres interpolaciones. (constante, lineal, y c\u00fabica)"
     ]
    },
    {
     "cell_type": "code",
     "collapsed": false,
     "input": [],
     "language": "python",
     "metadata": {},
     "outputs": []
    },
    {
     "cell_type": "markdown",
     "metadata": {},
     "source": [
      "Se realizan rutinas fft para calcular frecuencias y amplitudes, para cada una de las 3 interpolaciones. </br>\n",
      "frec - Frecuencias resultado de la transformada de Fourier </br>\n",
      "amp - Amplitudes de la transformada de Fourier resultante </br>"
     ]
    },
    {
     "cell_type": "code",
     "collapsed": false,
     "input": [],
     "language": "python",
     "metadata": {},
     "outputs": []
    },
    {
     "cell_type": "markdown",
     "metadata": {},
     "source": [
      "Calcula y grafica los espectros de potencias de las tres se\u00f1ales interpoladas."
     ]
    },
    {
     "cell_type": "code",
     "collapsed": false,
     "input": [],
     "language": "python",
     "metadata": {},
     "outputs": []
    },
    {
     "cell_type": "markdown",
     "metadata": {},
     "source": [
      "<strong>An\u00e1lisis</strong>"
     ]
    },
    {
     "cell_type": "markdown",
     "metadata": {},
     "source": [
      "Se preparan los datos para la reconstrucci\u00f3n. Se eliminan todas las amplitudes que corresponden a una frecuencia mayor a 1/20 y menor a 1/2. Luego, se realiza una rutina fft inversa para obtener nuevos datos para comparar con los datos originales."
     ]
    },
    {
     "cell_type": "code",
     "collapsed": false,
     "input": [],
     "language": "python",
     "metadata": {},
     "outputs": []
    },
    {
     "cell_type": "markdown",
     "metadata": {},
     "source": [
      "Grafica de datos nuevos y antiguos. Manchas vs tiempo"
     ]
    },
    {
     "cell_type": "code",
     "collapsed": false,
     "input": [],
     "language": "python",
     "metadata": {},
     "outputs": []
    },
    {
     "cell_type": "markdown",
     "metadata": {},
     "source": [
      "Estimaci\u00f3n del per\u00edodo del ciclo solar a partir de los resultados obtenidos."
     ]
    },
    {
     "cell_type": "code",
     "collapsed": false,
     "input": [],
     "language": "python",
     "metadata": {},
     "outputs": []
    }
   ],
   "metadata": {}
  }
 ]
}