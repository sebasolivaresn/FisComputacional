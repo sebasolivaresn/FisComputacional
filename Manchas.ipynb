{
 "metadata": {
  "name": ""
 },
 "nbformat": 3,
 "nbformat_minor": 0,
 "worksheets": [
  {
   "cells": [
    {
     "cell_type": "heading",
     "level": 3,
     "metadata": {},
     "source": [
      "F\u00edsica Computacional: Taller #5: Punto 2 (Manchas solares)"
     ]
    },
    {
     "cell_type": "markdown",
     "metadata": {},
     "source": [
      "Primero se carga el archivo de datos de las mediciones de manchas solares."
     ]
    },
    {
     "cell_type": "code",
     "collapsed": false,
     "input": [
      "%pylab inline\n",
      "import urllib2\n",
      "import matplotlib.pyplot as plt\n",
      "import numpy as np\n",
      "file = urllib2.urlopen(\"https://raw.github.com/forero/ComputationalPhysicsUniandesData/master/homework/hw_5/sparse_sample_monthrg.dat\")\n",
      "data = np.loadtxt(file)"
     ],
     "language": "python",
     "metadata": {},
     "outputs": [
      {
       "output_type": "stream",
       "stream": "stdout",
       "text": [
        "Populating the interactive namespace from numpy and matplotlib\n"
       ]
      }
     ],
     "prompt_number": 2
    },
    {
     "cell_type": "code",
     "collapsed": false,
     "input": [],
     "language": "python",
     "metadata": {},
     "outputs": []
    }
   ],
   "metadata": {}
  }
 ]
}